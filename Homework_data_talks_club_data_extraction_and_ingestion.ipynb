{
  "nbformat": 4,
  "nbformat_minor": 0,
  "metadata": {
    "colab": {
      "provenance": [],
      "include_colab_link": true
    },
    "kernelspec": {
      "name": "python3",
      "display_name": "Python 3"
    },
    "language_info": {
      "name": "python"
    }
  },
  "cells": [
    {
      "cell_type": "markdown",
      "metadata": {
        "id": "view-in-github",
        "colab_type": "text"
      },
      "source": [
        "<a href=\"https://colab.research.google.com/github/Brahm13/Zoomcamp2024/blob/main/Homework_data_talks_club_data_extraction_and_ingestion.ipynb\" target=\"_parent\"><img src=\"https://colab.research.google.com/assets/colab-badge.svg\" alt=\"Open In Colab\"/></a>"
      ]
    },
    {
      "cell_type": "markdown",
      "source": [
        "# **Homework**: Data talks club data engineering zoomcamp Data loading workshop\n",
        "\n",
        "Hello folks, let's practice what we learned - Loading data with the best practices of data engineering.\n",
        "\n",
        "Here are the exercises we will do\n",
        "\n",
        "\n"
      ],
      "metadata": {
        "id": "mrTFv5nPClXh"
      }
    },
    {
      "cell_type": "markdown",
      "source": [
        "# 1. Use a generator\n",
        "\n",
        "Remember the concept of generator? Let's practice using them to futher our understanding of how they work.\n",
        "\n",
        "Let's define a generator and then run it as practice.\n",
        "\n",
        "**Answer the following questions:**\n",
        "\n",
        "- **Question 1: What is the sum of the outputs of the generator for limit = 5?**\n",
        "- **Question 2: What is the 13th number yielded**\n",
        "\n",
        "I suggest practicing these questions without GPT as the purpose is to further your learning."
      ],
      "metadata": {
        "id": "wLF4iXf-NR7t"
      }
    },
    {
      "cell_type": "code",
      "source": [
        "def square_root_generator(limit):\n",
        "    n = 1\n",
        "    while n <= limit:\n",
        "        yield n ** 0.5\n",
        "        n += 1\n",
        "\n",
        "# Example usage:\n",
        "limit = 13\n",
        "generator = square_root_generator(limit)\n",
        "index = 1\n",
        "total = 0\n",
        "for sqrt_value in generator:\n",
        "  print(f\"{index}. = {sqrt_value} = {total+sqrt_value}\")\n",
        "  total += sqrt_value\n",
        "  index += 1\n",
        "\n",
        "\n",
        "# print(total)\n"
      ],
      "metadata": {
        "colab": {
          "base_uri": "https://localhost:8080/"
        },
        "id": "wLng-bDJN4jf",
        "outputId": "9184ba91-34c9-4c79-9885-e32d58c140df"
      },
      "execution_count": 9,
      "outputs": [
        {
          "output_type": "stream",
          "name": "stdout",
          "text": [
            "1. = 1.0 = 1.0\n",
            "2. = 1.4142135623730951 = 2.414213562373095\n",
            "3. = 1.7320508075688772 = 4.146264369941973\n",
            "4. = 2.0 = 6.146264369941973\n",
            "5. = 2.23606797749979 = 8.382332347441762\n",
            "6. = 2.449489742783178 = 10.83182209022494\n",
            "7. = 2.6457513110645907 = 13.47757340128953\n",
            "8. = 2.8284271247461903 = 16.30600052603572\n",
            "9. = 3.0 = 19.30600052603572\n",
            "10. = 3.1622776601683795 = 22.4682781862041\n",
            "11. = 3.3166247903554 = 25.7849029765595\n",
            "12. = 3.4641016151377544 = 29.249004591697254\n",
            "13. = 3.605551275463989 = 32.854555867161245\n"
          ]
        }
      ]
    },
    {
      "cell_type": "markdown",
      "source": [],
      "metadata": {
        "id": "xbe3q55zN43j"
      }
    },
    {
      "cell_type": "markdown",
      "source": [
        "# 2. Append a generator to a table with existing data\n",
        "\n",
        "\n",
        "Below you have 2 generators. You will be tasked to load them to duckdb and answer some questions from the data\n",
        "\n",
        "1. Load the first generator and calculate the sum of ages of all people. Make sure to only load it once.\n",
        "2. Append the second generator to the same table as the first.\n",
        "3. **After correctly appending the data, calculate the sum of all ages of people.**\n",
        "\n",
        "\n"
      ],
      "metadata": {
        "id": "vjWhILzGJMpK"
      }
    },
    {
      "cell_type": "code",
      "execution_count": 34,
      "metadata": {
        "colab": {
          "base_uri": "https://localhost:8080/",
          "height": 1000
        },
        "id": "2MoaQcdLBEk6",
        "outputId": "16ef08ee-6949-41cc-edb5-359d4c312480"
      },
      "outputs": [
        {
          "output_type": "stream",
          "name": "stdout",
          "text": [
            "{'ID': 3, 'Name': 'Person_3', 'Age': 33, 'City': 'City_B', 'Occupation': 'Job_3'}\n",
            "{'ID': 4, 'Name': 'Person_4', 'Age': 34, 'City': 'City_B', 'Occupation': 'Job_4'}\n",
            "{'ID': 5, 'Name': 'Person_5', 'Age': 35, 'City': 'City_B', 'Occupation': 'Job_5'}\n",
            "{'ID': 6, 'Name': 'Person_6', 'Age': 36, 'City': 'City_B', 'Occupation': 'Job_6'}\n",
            "{'ID': 7, 'Name': 'Person_7', 'Age': 37, 'City': 'City_B', 'Occupation': 'Job_7'}\n",
            "{'ID': 8, 'Name': 'Person_8', 'Age': 38, 'City': 'City_B', 'Occupation': 'Job_8'}\n",
            "Appending the two table....\n",
            "First table age\n"
          ]
        },
        {
          "output_type": "display_data",
          "data": {
            "text/plain": [
              "┌───────┬──────────┬───────┬─────────┬────────────────────┬────────────────┬────────────┐\n",
              "│  id   │   name   │  age  │  city   │    _dlt_load_id    │    _dlt_id     │ occupation │\n",
              "│ int64 │ varchar  │ int64 │ varchar │      varchar       │    varchar     │  varchar   │\n",
              "├───────┼──────────┼───────┼─────────┼────────────────────┼────────────────┼────────────┤\n",
              "│     1 │ Person_1 │    26 │ City_A  │ 1708187366.3004792 │ BCmczFTH9VfhUQ │ NULL       │\n",
              "│     2 │ Person_2 │    27 │ City_A  │ 1708187366.3004792 │ o1S/WofpoKOiGQ │ NULL       │\n",
              "│     3 │ Person_3 │    28 │ City_A  │ 1708187366.3004792 │ CFAxDgld6rg7tQ │ NULL       │\n",
              "│     4 │ Person_4 │    29 │ City_A  │ 1708187366.3004792 │ O2mCk0ZG/oRfEQ │ NULL       │\n",
              "│     5 │ Person_5 │    30 │ City_A  │ 1708187366.3004792 │ 3OBJS6TpI9FwfA │ NULL       │\n",
              "└───────┴──────────┴───────┴─────────┴────────────────────┴────────────────┴────────────┘"
            ]
          },
          "metadata": {}
        },
        {
          "output_type": "stream",
          "name": "stdout",
          "text": [
            "Sum of two table with append\n"
          ]
        },
        {
          "output_type": "display_data",
          "data": {
            "text/plain": [
              "┌────────────────────┐\n",
              "│ append_grand_total │\n",
              "│       int128       │\n",
              "├────────────────────┤\n",
              "│                353 │\n",
              "└────────────────────┘"
            ]
          },
          "metadata": {}
        },
        {
          "output_type": "display_data",
          "data": {
            "text/plain": [
              "┌───────┬──────────┬───────┬─────────┬────────────────────┬────────────────┬────────────┐\n",
              "│  id   │   name   │  age  │  city   │    _dlt_load_id    │    _dlt_id     │ occupation │\n",
              "│ int64 │ varchar  │ int64 │ varchar │      varchar       │    varchar     │  varchar   │\n",
              "├───────┼──────────┼───────┼─────────┼────────────────────┼────────────────┼────────────┤\n",
              "│     1 │ Person_1 │    26 │ City_A  │ 1708187366.3004792 │ BCmczFTH9VfhUQ │ NULL       │\n",
              "│     2 │ Person_2 │    27 │ City_A  │ 1708187366.3004792 │ o1S/WofpoKOiGQ │ NULL       │\n",
              "│     3 │ Person_3 │    28 │ City_A  │ 1708187366.3004792 │ CFAxDgld6rg7tQ │ NULL       │\n",
              "│     4 │ Person_4 │    29 │ City_A  │ 1708187366.3004792 │ O2mCk0ZG/oRfEQ │ NULL       │\n",
              "│     5 │ Person_5 │    30 │ City_A  │ 1708187366.3004792 │ 3OBJS6TpI9FwfA │ NULL       │\n",
              "│     3 │ Person_3 │    33 │ City_B  │ 1708187366.9599411 │ Up1uw0NoLfyPIw │ Job_3      │\n",
              "│     4 │ Person_4 │    34 │ City_B  │ 1708187366.9599411 │ nUVjYHtcmLktGg │ Job_4      │\n",
              "│     5 │ Person_5 │    35 │ City_B  │ 1708187366.9599411 │ r8CiVsc5N07ESw │ Job_5      │\n",
              "│     6 │ Person_6 │    36 │ City_B  │ 1708187366.9599411 │ UzR8GjJvlmdrwA │ Job_6      │\n",
              "│     7 │ Person_7 │    37 │ City_B  │ 1708187366.9599411 │ Xe8efz+Pfz2I2g │ Job_7      │\n",
              "│     8 │ Person_8 │    38 │ City_B  │ 1708187366.9599411 │ pbqjalPr0msyfg │ Job_8      │\n",
              "├───────┴──────────┴───────┴─────────┴────────────────────┴────────────────┴────────────┤\n",
              "│ 11 rows                                                                     7 columns │\n",
              "└───────────────────────────────────────────────────────────────────────────────────────┘"
            ]
          },
          "metadata": {}
        },
        {
          "output_type": "stream",
          "name": "stdout",
          "text": [
            "merging and summing age of two table\n",
            "Sum of two table with merge\n"
          ]
        },
        {
          "output_type": "display_data",
          "data": {
            "text/plain": [
              "┌───────────────────┐\n",
              "│ merge_grand_total │\n",
              "│      int128       │\n",
              "├───────────────────┤\n",
              "│               266 │\n",
              "└───────────────────┘"
            ]
          },
          "metadata": {}
        },
        {
          "output_type": "display_data",
          "data": {
            "text/plain": [
              "┌───────┬──────────┬───────┬─────────┬────────────────────┬────────────────┬────────────┐\n",
              "│  id   │   name   │  age  │  city   │    _dlt_load_id    │    _dlt_id     │ occupation │\n",
              "│ int64 │ varchar  │ int64 │ varchar │      varchar       │    varchar     │  varchar   │\n",
              "├───────┼──────────┼───────┼─────────┼────────────────────┼────────────────┼────────────┤\n",
              "│     1 │ Person_1 │    26 │ City_A  │ 1708187367.604145  │ Vy8CSVNZWLxo5g │ NULL       │\n",
              "│     2 │ Person_2 │    27 │ City_A  │ 1708187367.604145  │ vgSo1CEzgCv3Cg │ NULL       │\n",
              "│     5 │ Person_5 │    35 │ City_B  │ 1708187368.3989735 │ C5sey+ABtcJq3g │ Job_5      │\n",
              "│     8 │ Person_8 │    38 │ City_B  │ 1708187368.3989735 │ 5ZDc8ZejAc155w │ Job_8      │\n",
              "│     7 │ Person_7 │    37 │ City_B  │ 1708187368.3989735 │ OLO0oDvBMHwodw │ Job_7      │\n",
              "│     4 │ Person_4 │    34 │ City_B  │ 1708187368.3989735 │ pEJfdr5DHvGlIA │ Job_4      │\n",
              "│     3 │ Person_3 │    33 │ City_B  │ 1708187368.3989735 │ qsHVsvKDnm1EkA │ Job_3      │\n",
              "│     6 │ Person_6 │    36 │ City_B  │ 1708187368.3989735 │ bTwLVOOzumjTzQ │ Job_6      │\n",
              "└───────┴──────────┴───────┴─────────┴────────────────────┴────────────────┴────────────┘"
            ]
          },
          "metadata": {}
        }
      ],
      "source": [
        "import dlt\n",
        "import duckdb\n",
        "\n",
        "pipeline_var = dlt.pipeline(pipeline_name=\"one_time_load\",destination=\"duckdb\", dataset_name=\"human\")\n",
        "\n",
        "def people_1():\n",
        "    for i in range(1, 6):\n",
        "        yield {\"ID\": i, \"Name\": f\"Person_{i}\", \"Age\": 25 + i, \"City\": \"City_A\"}\n",
        "\n",
        "\n",
        "# for person in people_1():\n",
        "#   print(f\"{person}\")\n",
        "\n",
        "\n",
        "def people_2():\n",
        "    for i in range(3, 9):\n",
        "        yield {\"ID\": i, \"Name\": f\"Person_{i}\", \"Age\": 30 + i, \"City\": \"City_B\", \"Occupation\": f\"Job_{i}\"}\n",
        "\n",
        "\n",
        "for person in people_2():\n",
        "    print(person)\n",
        "\n",
        "\n",
        "print(\"Appending the two table....\")\n",
        "load_to_table1 = pipeline_var.run(people_1(),table_name=\"age\",write_disposition=\"replace\")\n",
        "\n",
        "conn = duckdb.connect(f\"{pipeline_var.pipeline_name}.duckdb\")\n",
        "\n",
        "conn.sql(f\"Set Search_path = {pipeline_var.dataset_name}\")\n",
        "print(\"First table age\")\n",
        "display(conn.sql(\"select * from age\"))\n",
        "\n",
        "load_to_table2 = pipeline_var.run(people_2(),table_name=\"age\",write_disposition=\"append\")\n",
        "print(\"Sum of two table with append\")\n",
        "display(conn.sql(\"select sum(age) as append_grand_total from age\"))\n",
        "display(conn.sql(\"select * from age\"))\n",
        "\n",
        "print(\"merging and summing age of two table\")\n",
        "pipeline_var.run(people_1(),table_name=\"age2\",write_disposition=\"merge\")\n",
        "pipeline_var.run(people_2(),table_name=\"age2\",write_disposition=\"merge\", primary_key=\"id\")\n",
        "print(\"Sum of two table with merge\")\n",
        "display(conn.sql(\"select sum(age) as merge_grand_total from age2\"))\n",
        "display(conn.sql(\"select * from age2\"))\n"
      ]
    },
    {
      "cell_type": "markdown",
      "source": [],
      "metadata": {
        "id": "vtdTIm4fvQCN"
      }
    },
    {
      "cell_type": "markdown",
      "source": [
        "# 3. Merge a generator\n",
        "\n",
        "Re-use the generators from Exercise 2.\n",
        "\n",
        "A table's primary key needs to be created from the start, so load your data to a new table with primary key ID.\n",
        "\n",
        "Load your first generator first, and then load the second one with merge. Since they have overlapping IDs, some of the records from the first load should be replaced by the ones from the second load.\n",
        "\n",
        "After loading, you should have a total of 8 records, and ID 3 should have age 33.\n",
        "\n",
        "Question: **Calculate the sum of ages of all the people loaded as described above.**\n"
      ],
      "metadata": {
        "id": "pY4cFAWOSwN1"
      }
    },
    {
      "cell_type": "markdown",
      "source": [
        "# Solution: First make sure that the following modules are installed:"
      ],
      "metadata": {
        "id": "kKB2GTB9oVjr"
      }
    },
    {
      "cell_type": "code",
      "source": [
        "#Install the dependencies\n",
        "%%capture\n",
        "!pip install dlt[duckdb]"
      ],
      "metadata": {
        "id": "xTVvtyqrfVNq"
      },
      "execution_count": 1,
      "outputs": []
    },
    {
      "cell_type": "code",
      "source": [
        "# to do: homework :)"
      ],
      "metadata": {
        "id": "a2-PRBAkGC2K"
      },
      "execution_count": null,
      "outputs": []
    },
    {
      "cell_type": "markdown",
      "source": [
        "Questions? difficulties? We are here to help.\n",
        "- DTC data engineering course channel: https://datatalks-club.slack.com/archives/C01FABYF2RG\n",
        "- dlt's DTC cohort channel: https://dlthub-community.slack.com/archives/C06GAEX2VNX"
      ],
      "metadata": {
        "id": "PoTJu4kbGG0z"
      }
    }
  ]
}