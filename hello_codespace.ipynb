{
 "cells": [
  {
   "cell_type": "code",
   "execution_count": null,
   "id": "cdc18c32-b69e-4609-a458-b2a023529810",
   "metadata": {},
   "outputs": [],
   "source": []
  },
  {
   "cell_type": "markdown",
   "id": "ad6cfdf0",
   "metadata": {},
   "source": [
    "## Run docker postgres and pgadmin in network container\n",
    "\n",
    "1. create a network\n",
    "`docker network create pg-network`\n",
    "2. docker volume create \n",
    "`docker volume create --name dtc_postgres_volume_local -d local`\n",
    "3. run postgres local\n",
    "```\n",
    "docker run -it \\\n",
    "    -e POSTGRES_USER=\"root\" \\\n",
    "    -e POSTGRES_PASSWORD=\"root\" \\\n",
    "    -e POSTGRES_DB=\"ny_taxi\" \\\n",
    "    -v dt_postgres_volume_local:/var/lib/postgresql/data \\\n",
    "    -p 5432:5432 \\\n",
    "    --network=pg-network \\\n",
    "    --name pg-database \\\n",
    "    postgres:13\n",
    "```\n",
    "4. run pgadmin on same network\n",
    "```\n",
    "docker run -it \\\n",
    "    -e PGADMIN_DEFAULT_EMAIL=\"admin@admin.com\" \\\n",
    "    -e PGADMIN_DEFAULT_PASSWORD=\"root\" \\\n",
    "    -p 8080:80 \\\n",
    "    --network=pg-network \\\n",
    "    --name pgadmin \\\n",
    "    dpage/pgadmin4\n",
    "```"
   ]
  }
 ],
 "metadata": {
  "kernelspec": {
   "display_name": "Python 3 (ipykernel)",
   "language": "python",
   "name": "python3"
  },
  "language_info": {
   "codemirror_mode": {
    "name": "ipython",
    "version": 3
   },
   "file_extension": ".py",
   "mimetype": "text/x-python",
   "name": "python",
   "nbconvert_exporter": "python",
   "pygments_lexer": "ipython3",
   "version": "3.10.13"
  }
 },
 "nbformat": 4,
 "nbformat_minor": 5
}
